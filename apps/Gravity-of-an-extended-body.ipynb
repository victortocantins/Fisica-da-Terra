{
 "cells": [
  {
   "cell_type": "markdown",
   "metadata": {
    "iooxa": {
     "id": {
      "block": "TeHibMSJwDpNNLQwUwam",
      "project": "fl8wyxxPFdNt8tMCZb7R",
      "version": 1
     }
    }
   },
   "source": [
    "# Gravidade de um corpo extendido\n",
    "\n",
    "Neste exercício, estamos interessado na aproximação da gravidade de um corpo extendido. O potencial gravitacional num ponto $P$ externo é dada pela equação\n",
    "\n",
    "\\begin{equation}\n",
    "U_g = -G\\, \\int_x \\int_y \\int_z \\frac{\\rho(x,y,z)}{r(x,y,z)}\\,dx\\,dy\\,dz\\,,\n",
    "\\end{equation}\n",
    "\n",
    "onde $G$ é a constante gravitacional, $\\rho(x,y,z)$ é a densidade na posição $(x,y,z)$, e $r(x,y,z)$ é a distância entre $(x,y,z)$ e o ponto de observação $P$.\n",
    "\n",
    "Para resolver numericamente a integral, discretizamos o domínio espacial em pontos do grid uniformemente espaçados $(x_i, y_i, z_i)$, separados por uma pequena distância $h$. Em seguida, obtemos uma aproximação de $U_g$ somando todos os pontos do grid,\n",
    "\n",
    "\\begin{equation}\n",
    "U_g \\approx -G\\,\\sum_i \\frac{\\rho(x_i,y_i,z_i)}{r(x_i,y_i,z_i)}\\,V\\,,\n",
    "\\end{equation}\n",
    "\n",
    "onde o pequeno volume $V$ é dado por $V=h^3\\approx dx\\,dy\\,dz$. O produto $\\rho(x_i, y_i, z_i) V$ é igual à massa $m_i$ contida no pequeno volume $V$. Renomeando $r_i=r(x_i,y_i,z_i)$, podemos reescrever a equação acima como\n",
    "\n",
    "\\begin{equation}\n",
    "U_g \\approx -G\\,\\sum_i \\frac{m_i}{r_i}\\,,\n",
    "\\end{equation}\n",
    "\n",
    "que é idêntica à equação (3.12) no texto.\n",
    "\n",
    "Uma aproximação que faremos ao longo deste exercício é que a Terra está contida em uma pequena caixa retangular. Embora isso obviamente não seja realista, simplifica muito os cálculos, ao mesmo tempo que ilustra os princípios básicos."
   ]
  },
  {
   "cell_type": "markdown",
   "metadata": {
    "iooxa": {
     "id": {
      "block": "657VRFjVX15FFeKs1tN6",
      "project": "fl8wyxxPFdNt8tMCZb7R",
      "version": 1
     }
    }
   },
   "source": [
    "## 0. Import Python packages and define gravitational constant\n",
    "\n",
    "We start by importing some essential Python packages and defining the gravitational constant."
   ]
  },
  {
   "cell_type": "code",
   "execution_count": 1,
   "metadata": {
    "iooxa": {
     "id": {
      "block": "CUAW5ZQxIVn9N6BwIWEp",
      "project": "fl8wyxxPFdNt8tMCZb7R",
      "version": 1
     },
     "outputId": null
    }
   },
   "outputs": [],
   "source": [
    "import numpy as np\n",
    "import matplotlib.pyplot as plt\n",
    "\n",
    "G=6.67508e-11"
   ]
  },
  {
   "cell_type": "markdown",
   "metadata": {
    "iooxa": {
     "id": {
      "block": "3xwfq144nNxGM7ct87CI",
      "project": "fl8wyxxPFdNt8tMCZb7R",
      "version": 1
     }
    }
   },
   "source": [
    "## 1. Computational domain and density distribution\n",
    "\n",
    "**As a first step, we set up the computational domain, and we define some density distribution.** For convenience, we limit ourselves to a 2D density distribution, meaning that we ignore the spatial extension of the body in $y$-direction."
   ]
  },
  {
   "cell_type": "code",
   "execution_count": 15,
   "metadata": {
    "iooxa": {
     "id": {
      "block": "EE2L9096HMcTy1SBZeMT",
      "project": "fl8wyxxPFdNt8tMCZb7R",
      "version": 2
     },
     "outputId": {
      "block": "owmCp5PkEqMJfZ66KTMg",
      "project": "fl8wyxxPFdNt8tMCZb7R",
      "version": 1
     }
    }
   },
   "outputs": [
    {
     "data": {
      "image/png": "[encoded data removed]",
      "text/plain": [
       "<Figure size 432x288 with 2 Axes>"
      ]
     },
     "metadata": {
      "needs_background": "light"
     },
     "output_type": "display_data"
    }
   ],
   "source": [
    "# Dimension of the computational domain [m].\n",
    "x_min=-50.0e3\n",
    "x_max=50.0e3\n",
    "z_min=-100.0e3\n",
    "z_max=0.0\n",
    "\n",
    "# Grid spacing [m] and cell volume.\n",
    "h=1.0e3\n",
    "V=h**3\n",
    "\n",
    "nx=np.int((x_max-x_min)/h)\n",
    "nz=np.int((z_max-z_min)/h)\n",
    "\n",
    "# Coordinate axes.\n",
    "x=np.linspace(x_min,x_max,nx)\n",
    "z=np.linspace(z_min,z_max,nz)\n",
    "\n",
    "xv,zv=np.meshgrid(x,z,indexing='ij')\n",
    "\n",
    "# Define some density distribution.\n",
    "rho=np.zeros(np.shape(xv))\n",
    "rho[40:60,40:60]=5500.0\n",
    "\n",
    "# Plot density distribution.\n",
    "plt.pcolor(xv/1000.0,zv/1000.0,rho,cmap='Greys',shading='auto')\n",
    "plt.xlabel('x [km]')\n",
    "plt.ylabel('z [km]')\n",
    "plt.title(r'density distribution [kg$/$m$^3$]')\n",
    "plt.colorbar()\n",
    "plt.show()"
   ]
  },
  {
   "cell_type": "markdown",
   "metadata": {
    "iooxa": {
     "id": {
      "block": "wQWqt7UEbaroCobiIHzX",
      "project": "fl8wyxxPFdNt8tMCZb7R",
      "version": 1
     }
    }
   },
   "source": [
    "## 2. Gravitational potential"
   ]
  },
  {
   "cell_type": "markdown",
   "metadata": {
    "iooxa": {
     "id": {
      "block": "YB3nuIH1JXEqVKklvcF0",
      "project": "fl8wyxxPFdNt8tMCZb7R",
      "version": 1
     }
    }
   },
   "source": [
    "**Based on the setup above, we can compute the gravitational potential at some observation points.** For this, we initially choose a line of closely spaced points located $10$ m above the surface."
   ]
  },
  {
   "cell_type": "code",
   "execution_count": 16,
   "metadata": {
    "iooxa": {
     "id": {
      "block": "VzoH3vieMEawIhca37Gg",
      "project": "fl8wyxxPFdNt8tMCZb7R",
      "version": 2
     },
     "outputId": {
      "block": "99iSETZp19NAfxf9ndIp",
      "project": "fl8wyxxPFdNt8tMCZb7R",
      "version": 2
     }
    }
   },
   "outputs": [
    {
     "data": {
      "image/png": "[encoded data removed]",
      "text/plain": [
       "<Figure size 432x288 with 1 Axes>"
      ]
     },
     "metadata": {
      "needs_background": "light"
     },
     "output_type": "display_data"
    }
   ],
   "source": [
    "# Define observation points.\n",
    "x_obs=x\n",
    "z_obs=10.0*np.ones(nx)\n",
    "\n",
    "# Initialize gravitational potential.\n",
    "U=np.zeros(len(x_obs))\n",
    "\n",
    "# Loop over all observation points.\n",
    "for k in range(len(x_obs)):\n",
    "    \n",
    "    r=np.sqrt((x_obs[k]-xv)**2 + (z_obs[k]-zv)**2)\n",
    "    U[k]=-G*V*np.sum(rho/r)\n",
    "            \n",
    "# Plot gravitational potential.\n",
    "plt.plot(x_obs/1000.0,U)\n",
    "plt.xlabel('x [km]')\n",
    "plt.ylabel(r'$U_g$ [$m^2$/$s^2$]')\n",
    "plt.title('gravitational potential')\n",
    "plt.show()"
   ]
  },
  {
   "cell_type": "markdown",
   "metadata": {
    "iooxa": {
     "id": {
      "block": "Fmvot3vNLVs4vMq6zIka",
      "project": "fl8wyxxPFdNt8tMCZb7R",
      "version": 1
     }
    }
   },
   "source": [
    "## 3. Alternative density distribution\n",
    "\n",
    "**The previous lines of code are very flexible and may be used to study the gravitational potential of other density distributions.** As an example, we consider a denser version of the square from point 2., but with a low-density inclusion."
   ]
  },
  {
   "cell_type": "code",
   "execution_count": 17,
   "metadata": {
    "iooxa": {
     "id": {
      "block": "pBZ4IAmKhZe7HSAl1PcU",
      "project": "fl8wyxxPFdNt8tMCZb7R",
      "version": 2
     },
     "outputId": {
      "block": "DZG9VTvb18ORQyXR0X65",
      "project": "fl8wyxxPFdNt8tMCZb7R",
      "version": 2
     }
    }
   },
   "outputs": [
    {
     "data": {
      "image/png": "[encoded data removed]",
      "text/plain": [
       "<Figure size 432x288 with 2 Axes>"
      ]
     },
     "metadata": {
      "needs_background": "light"
     },
     "output_type": "display_data"
    },
    {
     "data": {
      "image/png": "[encoded data removed]",
      "text/plain": [
       "<Figure size 432x288 with 1 Axes>"
      ]
     },
     "metadata": {
      "needs_background": "light"
     },
     "output_type": "display_data"
    }
   ],
   "source": [
    "# Define some alternative density distribution.\n",
    "rho_alt=np.zeros(np.shape(xv))\n",
    "rho_alt[40:60,40:60]=6000.0\n",
    "rho_alt[45:55,45:55]=5000.0\n",
    "\n",
    "# Plot density distribution.\n",
    "plt.pcolor(xv/1000.0,zv/1000.0,rho_alt,cmap='Greys',shading='auto')\n",
    "plt.xlabel('x [km]')\n",
    "plt.ylabel('z [km]')\n",
    "plt.title(r'density distribution [kg$/$m$^3$]')\n",
    "plt.colorbar()\n",
    "plt.show()\n",
    "\n",
    "# Initialize gravitational potential.\n",
    "U_alt=np.zeros(len(x_obs))\n",
    "\n",
    "# Loop over all observation points.\n",
    "for k in range(len(x_obs)):\n",
    "    \n",
    "    r=np.sqrt((x_obs[k]-xv)**2 + (z_obs[k]-zv)**2)\n",
    "    U_alt[k]=-G*V*np.sum(rho_alt/r)\n",
    "\n",
    "# Plot gravitational potential.\n",
    "plt.plot(x_obs/1000.0,U_alt)\n",
    "plt.xlabel('x [km]')\n",
    "plt.ylabel(r'$U_g$ [$m^2$/$s^2$]')\n",
    "plt.title('gravitational potential')\n",
    "plt.show()"
   ]
  },
  {
   "cell_type": "markdown",
   "metadata": {
    "iooxa": {
     "id": {
      "block": "PzhGbkwKuSkNVb5rRnqw",
      "project": "fl8wyxxPFdNt8tMCZb7R",
      "version": 1
     }
    }
   },
   "source": [
    "## 4. Exercises"
   ]
  },
  {
   "cell_type": "markdown",
   "metadata": {
    "iooxa": {
     "id": {
      "block": "Y4FldXEoA29LkS5QAuMU",
      "project": "fl8wyxxPFdNt8tMCZb7R",
      "version": 1
     }
    }
   },
   "source": [
    "1) In point 3, modify the density of the inclusion such that the resulting gravity potential resembles the potential from point 2 as closely as possible. For this, plot the difference between the variables *U* and *U_alt*, normalized by the maximum value of *U*. What does your result imply for our ability to distinguish different kinds of density distributions in the Earth?\n",
    "\n",
    "\n",
    "2) Modify the 2D density distribution in order to model the gravity potential for the following geologic settings: (a) a normal fault, (b) a reverse fault, (c) an anticline, (d) a syncline, and (e) a void inside a homogeneous medium.\n",
    "\n",
    "3) Compute the gravitational potential on a 2D grid of observation points above the surface ($z>0$) and plot the equipotential surface using the *plt.contour* function.\n",
    "\n",
    "4) **Optional:** Modify the above computation of the gravitational potential for a 2D body so that a 3D-extended body can be considered. (You may need to be careful not to exceed the storage capacity of your computer.)"
   ]
  }
 ],
 "metadata": {
  "iooxa": {
   "id": {
    "block": "YImw7glCZR6KxAoMGeQ1",
    "project": "fl8wyxxPFdNt8tMCZb7R",
    "version": 2
   }
  },
  "kernelspec": {
   "display_name": "Python 3",
   "language": "python",
   "name": "python3"
  },
  "language_info": {
   "codemirror_mode": {
    "name": "ipython",
    "version": 3
   },
   "file_extension": ".py",
   "mimetype": "text/x-python",
   "name": "python",
   "nbconvert_exporter": "python",
   "pygments_lexer": "ipython3",
   "version": "3.8.5"
  }
 },
 "nbformat": 4,
 "nbformat_minor": 2
}
